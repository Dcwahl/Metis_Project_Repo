{
 "cells": [
  {
   "cell_type": "markdown",
   "id": "207370f4",
   "metadata": {},
   "source": [
    "# Quick EDA"
   ]
  },
  {
   "cell_type": "code",
   "execution_count": 5,
   "id": "0e30e8c6",
   "metadata": {},
   "outputs": [],
   "source": [
    "from scipy.io import loadmat\n",
    "from PIL import Image"
   ]
  },
  {
   "cell_type": "code",
   "execution_count": 2,
   "id": "3172100e",
   "metadata": {},
   "outputs": [],
   "source": [
    "full = loadmat('emnist-byclass.mat') #pulling from file\n",
    "data = full['dataset'] #this snags the particular set that I used\n",
    "del full #for the sake of preserving RAM"
   ]
  },
  {
   "cell_type": "code",
   "execution_count": 3,
   "id": "bd07c7fa",
   "metadata": {},
   "outputs": [
    {
     "data": {
      "text/plain": [
       "array([[(array([[(array([[0, 0, 0, ..., 0, 0, 0],\n",
       "                       [0, 0, 0, ..., 0, 0, 0],\n",
       "                       [0, 0, 0, ..., 0, 0, 0],\n",
       "                       ...,\n",
       "                       [0, 0, 0, ..., 0, 0, 0],\n",
       "                       [0, 0, 0, ..., 0, 0, 0],\n",
       "                       [0, 0, 0, ..., 0, 0, 0]], dtype=uint8), array([[35],\n",
       "                       [36],\n",
       "                       [ 6],\n",
       "                       ...,\n",
       "                       [ 5],\n",
       "                       [11],\n",
       "                       [22]], dtype=uint8), array([[2376],\n",
       "                       [3994],\n",
       "                       [3699],\n",
       "                       ...,\n",
       "                       [  26],\n",
       "                       [ 421],\n",
       "                       [1243]], dtype=uint16))                             ]],\n",
       "              dtype=[('images', 'O'), ('labels', 'O'), ('writers', 'O')]), array([[(array([[0, 0, 0, ..., 0, 0, 0],\n",
       "                       [0, 0, 0, ..., 0, 0, 0],\n",
       "                       [0, 0, 0, ..., 0, 0, 0],\n",
       "                       ...,\n",
       "                       [0, 0, 0, ..., 0, 0, 0],\n",
       "                       [0, 0, 0, ..., 0, 0, 0],\n",
       "                       [0, 0, 0, ..., 0, 0, 0]], dtype=uint8), array([[18],\n",
       "                       [36],\n",
       "                       [ 0],\n",
       "                       ...,\n",
       "                       [28],\n",
       "                       [ 0],\n",
       "                       [ 5]], dtype=uint8), array([[ 464],\n",
       "                       [  12],\n",
       "                       [ 249],\n",
       "                       ...,\n",
       "                       [ 313],\n",
       "                       [ 512],\n",
       "                       [2497]], dtype=uint16))                             ]],\n",
       "              dtype=[('images', 'O'), ('labels', 'O'), ('writers', 'O')]), array([[  0,  48],\n",
       "               [  1,  49],\n",
       "               [  2,  50],\n",
       "               [  3,  51],\n",
       "               [  4,  52],\n",
       "               [  5,  53],\n",
       "               [  6,  54],\n",
       "               [  7,  55],\n",
       "               [  8,  56],\n",
       "               [  9,  57],\n",
       "               [ 10,  65],\n",
       "               [ 11,  66],\n",
       "               [ 12,  67],\n",
       "               [ 13,  68],\n",
       "               [ 14,  69],\n",
       "               [ 15,  70],\n",
       "               [ 16,  71],\n",
       "               [ 17,  72],\n",
       "               [ 18,  73],\n",
       "               [ 19,  74],\n",
       "               [ 20,  75],\n",
       "               [ 21,  76],\n",
       "               [ 22,  77],\n",
       "               [ 23,  78],\n",
       "               [ 24,  79],\n",
       "               [ 25,  80],\n",
       "               [ 26,  81],\n",
       "               [ 27,  82],\n",
       "               [ 28,  83],\n",
       "               [ 29,  84],\n",
       "               [ 30,  85],\n",
       "               [ 31,  86],\n",
       "               [ 32,  87],\n",
       "               [ 33,  88],\n",
       "               [ 34,  89],\n",
       "               [ 35,  90],\n",
       "               [ 36,  97],\n",
       "               [ 37,  98],\n",
       "               [ 38,  99],\n",
       "               [ 39, 100],\n",
       "               [ 40, 101],\n",
       "               [ 41, 102],\n",
       "               [ 42, 103],\n",
       "               [ 43, 104],\n",
       "               [ 44, 105],\n",
       "               [ 45, 106],\n",
       "               [ 46, 107],\n",
       "               [ 47, 108],\n",
       "               [ 48, 109],\n",
       "               [ 49, 110],\n",
       "               [ 50, 111],\n",
       "               [ 51, 112],\n",
       "               [ 52, 113],\n",
       "               [ 53, 114],\n",
       "               [ 54, 115],\n",
       "               [ 55, 116],\n",
       "               [ 56, 117],\n",
       "               [ 57, 118],\n",
       "               [ 58, 119],\n",
       "               [ 59, 120],\n",
       "               [ 60, 121],\n",
       "               [ 61, 122]], dtype=uint8))                                                                          ]],\n",
       "      dtype=[('train', 'O'), ('test', 'O'), ('mapping', 'O')])"
      ]
     },
     "execution_count": 3,
     "metadata": {},
     "output_type": "execute_result"
    }
   ],
   "source": [
    "data"
   ]
  },
  {
   "cell_type": "markdown",
   "id": "38e727b8",
   "metadata": {},
   "source": [
    "Hard to explain exactly what's going on with the structure of the dataset, but the relevant sets are as follows:\n",
    "\n",
    "data[0][0][0][0][0][0] - These are the preallocated training data\n",
    "\n",
    "data[0][0][0][0][0][1] - these are our training labels\n",
    "\n",
    "data[0][0][1][0][0][0] - test data\n",
    "\n",
    "data[0][0][1][0][0][1] - test labels\n",
    "\n",
    "Let's take a quick look at what these images look like!\n"
   ]
  },
  {
   "cell_type": "code",
   "execution_count": 6,
   "id": "fce5bf29",
   "metadata": {},
   "outputs": [
    {
     "data": {
      "image/png": "[encoded data removed]",
      "text/plain": [
       "<PIL.Image.Image image mode=L size=28x28 at 0x7FF166436C40>"
      ]
     },
     "metadata": {},
     "output_type": "display_data"
    },
    {
     "data": {
      "image/png": "[encoded data removed]",
      "text/plain": [
       "<PIL.Image.Image image mode=L size=28x28 at 0x7FF166436BB0>"
      ]
     },
     "metadata": {},
     "output_type": "display_data"
    },
    {
     "data": {
      "image/png": "[encoded data removed]",
      "text/plain": [
       "<PIL.Image.Image image mode=L size=28x28 at 0x7FF166436A90>"
      ]
     },
     "metadata": {},
     "output_type": "display_data"
    },
    {
     "data": {
      "image/png": "[encoded data removed]",
      "text/plain": [
       "<PIL.Image.Image image mode=L size=28x28 at 0x7FF179314BB0>"
      ]
     },
     "metadata": {},
     "output_type": "display_data"
    },
    {
     "data": {
      "image/png": "[encoded data removed]",
      "text/plain": [
       "<PIL.Image.Image image mode=L size=28x28 at 0x7FF1664367C0>"
      ]
     },
     "metadata": {},
     "output_type": "display_data"
    },
    {
     "data": {
      "image/png": "[encoded data removed]",
      "text/plain": [
       "<PIL.Image.Image image mode=L size=28x28 at 0x7FF1664369A0>"
      ]
     },
     "metadata": {},
     "output_type": "display_data"
    },
    {
     "data": {
      "image/png": "[encoded data removed]",
      "text/plain": [
       "<PIL.Image.Image image mode=L size=28x28 at 0x7FF179314DC0>"
      ]
     },
     "metadata": {},
     "output_type": "display_data"
    },
    {
     "data": {
      "image/png": "[encoded data removed]",
      "text/plain": [
       "<PIL.Image.Image image mode=L size=28x28 at 0x7FF166436850>"
      ]
     },
     "metadata": {},
     "output_type": "display_data"
    },
    {
     "data": {
      "image/png": "[encoded data removed]",
      "text/plain": [
       "<PIL.Image.Image image mode=L size=28x28 at 0x7FF166436AF0>"
      ]
     },
     "metadata": {},
     "output_type": "display_data"
    },
    {
     "data": {
      "image/png": "[encoded data removed]",
      "text/plain": [
       "<PIL.Image.Image image mode=L size=28x28 at 0x7FF166436790>"
      ]
     },
     "metadata": {},
     "output_type": "display_data"
    },
    {
     "data": {
      "image/png": "[encoded data removed]",
      "text/plain": [
       "<PIL.Image.Image image mode=L size=28x28 at 0x7FF166441190>"
      ]
     },
     "metadata": {},
     "output_type": "display_data"
    },
    {
     "data": {
      "image/png": "[encoded data removed]",
      "text/plain": [
       "<PIL.Image.Image image mode=L size=28x28 at 0x7FF166436DC0>"
      ]
     },
     "metadata": {},
     "output_type": "display_data"
    },
    {
     "data": {
      "image/png": "[encoded data removed]",
      "text/plain": [
       "<PIL.Image.Image image mode=L size=28x28 at 0x7FF166436B50>"
      ]
     },
     "metadata": {},
     "output_type": "display_data"
    },
    {
     "data": {
      "image/png": "[encoded data removed]",
      "text/plain": [
       "<PIL.Image.Image image mode=L size=28x28 at 0x7FF166441160>"
      ]
     },
     "metadata": {},
     "output_type": "display_data"
    },
    {
     "data": {
      "image/png": "[encoded data removed]",
      "text/plain": [
       "<PIL.Image.Image image mode=L size=28x28 at 0x7FF166436F70>"
      ]
     },
     "metadata": {},
     "output_type": "display_data"
    },
    {
     "data": {
      "image/png": "[encoded data removed]",
      "text/plain": [
       "<PIL.Image.Image image mode=L size=28x28 at 0x7FF166436A30>"
      ]
     },
     "metadata": {},
     "output_type": "display_data"
    },
    {
     "data": {
      "image/png": "[encoded data removed]",
      "text/plain": [
       "<PIL.Image.Image image mode=L size=28x28 at 0x7FF166441040>"
      ]
     },
     "metadata": {},
     "output_type": "display_data"
    },
    {
     "data": {
      "image/png": "[encoded data removed]",
      "text/plain": [
       "<PIL.Image.Image image mode=L size=28x28 at 0x7FF166441220>"
      ]
     },
     "metadata": {},
     "output_type": "display_data"
    },
    {
     "data": {
      "image/png": "[encoded data removed]",
      "text/plain": [
       "<PIL.Image.Image image mode=L size=28x28 at 0x7FF166436BE0>"
      ]
     },
     "metadata": {},
     "output_type": "display_data"
    },
    {
     "data": {
      "image/png": "[encoded data removed]",
      "text/plain": [
       "<PIL.Image.Image image mode=L size=28x28 at 0x7FF166436E20>"
      ]
     },
     "metadata": {},
     "output_type": "display_data"
    },
    {
     "data": {
      "image/png": "[encoded data removed]",
      "text/plain": [
       "<PIL.Image.Image image mode=L size=28x28 at 0x7FF166436E50>"
      ]
     },
     "metadata": {},
     "output_type": "display_data"
    },
    {
     "data": {
      "image/png": "[encoded data removed]",
      "text/plain": [
       "<PIL.Image.Image image mode=L size=28x28 at 0x7FF1664410A0>"
      ]
     },
     "metadata": {},
     "output_type": "display_data"
    },
    {
     "data": {
      "image/png": "[encoded data removed]",
      "text/plain": [
       "<PIL.Image.Image image mode=L size=28x28 at 0x7FF179314130>"
      ]
     },
     "metadata": {},
     "output_type": "display_data"
    },
    {
     "data": {
      "image/png": "[encoded data removed]",
      "text/plain": [
       "<PIL.Image.Image image mode=L size=28x28 at 0x7FF166436CA0>"
      ]
     },
     "metadata": {},
     "output_type": "display_data"
    },
    {
     "data": {
      "image/png": "[encoded data removed]",
      "text/plain": [
       "<PIL.Image.Image image mode=L size=28x28 at 0x7FF166436D00>"
      ]
     },
     "metadata": {},
     "output_type": "display_data"
    },
    {
     "data": {
      "image/png": "[encoded data removed]",
      "text/plain": [
       "<PIL.Image.Image image mode=L size=28x28 at 0x7FF166436EB0>"
      ]
     },
     "metadata": {},
     "output_type": "display_data"
    },
    {
     "data": {
      "image/png": "[encoded data removed]",
      "text/plain": [
       "<PIL.Image.Image image mode=L size=28x28 at 0x7FF166436A60>"
      ]
     },
     "metadata": {},
     "output_type": "display_data"
    },
    {
     "data": {
      "image/png": "[encoded data removed]",
      "text/plain": [
       "<PIL.Image.Image image mode=L size=28x28 at 0x7FF1664369D0>"
      ]
     },
     "metadata": {},
     "output_type": "display_data"
    },
    {
     "data": {
      "image/png": "[encoded data removed]",
      "text/plain": [
       "<PIL.Image.Image image mode=L size=28x28 at 0x7FF166436AC0>"
      ]
     },
     "metadata": {},
     "output_type": "display_data"
    },
    {
     "data": {
      "image/png": "[encoded data removed]",
      "text/plain": [
       "<PIL.Image.Image image mode=L size=28x28 at 0x7FF166436820>"
      ]
     },
     "metadata": {},
     "output_type": "display_data"
    },
    {
     "data": {
      "image/png": "[encoded data removed]",
      "text/plain": [
       "<PIL.Image.Image image mode=L size=28x28 at 0x7FF166436FD0>"
      ]
     },
     "metadata": {},
     "output_type": "display_data"
    },
    {
     "data": {
      "image/png": "[encoded data removed]",
      "text/plain": [
       "<PIL.Image.Image image mode=L size=28x28 at 0x7FF166436D30>"
      ]
     },
     "metadata": {},
     "output_type": "display_data"
    },
    {
     "data": {
      "image/png": "[encoded data removed]",
      "text/plain": [
       "<PIL.Image.Image image mode=L size=28x28 at 0x7FF166436A00>"
      ]
     },
     "metadata": {},
     "output_type": "display_data"
    },
    {
     "data": {
      "image/png": "[encoded data removed]",
      "text/plain": [
       "<PIL.Image.Image image mode=L size=28x28 at 0x7FF166441070>"
      ]
     },
     "metadata": {},
     "output_type": "display_data"
    },
    {
     "data": {
      "image/png": "[encoded data removed]",
      "text/plain": [
       "<PIL.Image.Image image mode=L size=28x28 at 0x7FF166436FA0>"
      ]
     },
     "metadata": {},
     "output_type": "display_data"
    },
    {
     "data": {
      "image/png": "[encoded data removed]",
      "text/plain": [
       "<PIL.Image.Image image mode=L size=28x28 at 0x7FF179314C40>"
      ]
     },
     "metadata": {},
     "output_type": "display_data"
    },
    {
     "data": {
      "image/png": "[encoded data removed]",
      "text/plain": [
       "<PIL.Image.Image image mode=L size=28x28 at 0x7FF179314CD0>"
      ]
     },
     "metadata": {},
     "output_type": "display_data"
    },
    {
     "data": {
      "image/png": "[encoded data removed]",
      "text/plain": [
       "<PIL.Image.Image image mode=L size=28x28 at 0x7FF166436EE0>"
      ]
     },
     "metadata": {},
     "output_type": "display_data"
    },
    {
     "data": {
      "image/png": "[encoded data removed]",
      "text/plain": [
       "<PIL.Image.Image image mode=L size=28x28 at 0x7FF179314E80>"
      ]
     },
     "metadata": {},
     "output_type": "display_data"
    },
    {
     "data": {
      "image/png": "[encoded data removed]",
      "text/plain": [
       "<PIL.Image.Image image mode=L size=28x28 at 0x7FF166436D90>"
      ]
     },
     "metadata": {},
     "output_type": "display_data"
    },
    {
     "data": {
      "image/png": "[encoded data removed]",
      "text/plain": [
       "<PIL.Image.Image image mode=L size=28x28 at 0x7FF1664368E0>"
      ]
     },
     "metadata": {},
     "output_type": "display_data"
    },
    {
     "data": {
      "image/png": "[encoded data removed]",
      "text/plain": [
       "<PIL.Image.Image image mode=L size=28x28 at 0x7FF166436C10>"
      ]
     },
     "metadata": {},
     "output_type": "display_data"
    },
    {
     "data": {
      "image/png": "[encoded data removed]",
      "text/plain": [
       "<PIL.Image.Image image mode=L size=28x28 at 0x7FF166441280>"
      ]
     },
     "metadata": {},
     "output_type": "display_data"
    },
    {
     "data": {
      "image/png": "[encoded data removed]",
      "text/plain": [
       "<PIL.Image.Image image mode=L size=28x28 at 0x7FF166436970>"
      ]
     },
     "metadata": {},
     "output_type": "display_data"
    },
    {
     "data": {
      "image/png": "[encoded data removed]",
      "text/plain": [
       "<PIL.Image.Image image mode=L size=28x28 at 0x7FF1664412B0>"
      ]
     },
     "metadata": {},
     "output_type": "display_data"
    },
    {
     "data": {
      "image/png": "[encoded data removed]",
      "text/plain": [
       "<PIL.Image.Image image mode=L size=28x28 at 0x7FF166436D60>"
      ]
     },
     "metadata": {},
     "output_type": "display_data"
    },
    {
     "data": {
      "image/png": "[encoded data removed]",
      "text/plain": [
       "<PIL.Image.Image image mode=L size=28x28 at 0x7FF166436C70>"
      ]
     },
     "metadata": {},
     "output_type": "display_data"
    },
    {
     "data": {
      "image/png": "[encoded data removed]",
      "text/plain": [
       "<PIL.Image.Image image mode=L size=28x28 at 0x7FF1664367F0>"
      ]
     },
     "metadata": {},
     "output_type": "display_data"
    },
    {
     "data": {
      "image/png": "[encoded data removed]",
      "text/plain": [
       "<PIL.Image.Image image mode=L size=28x28 at 0x7FF166441100>"
      ]
     },
     "metadata": {},
     "output_type": "display_data"
    },
    {
     "data": {
      "image/png": "[encoded data removed]",
      "text/plain": [
       "<PIL.Image.Image image mode=L size=28x28 at 0x7FF166436B20>"
      ]
     },
     "metadata": {},
     "output_type": "display_data"
    },
    {
     "data": {
      "image/png": "[encoded data removed]",
      "text/plain": [
       "<PIL.Image.Image image mode=L size=28x28 at 0x7FF1664411C0>"
      ]
     },
     "metadata": {},
     "output_type": "display_data"
    },
    {
     "data": {
      "image/png": "[encoded data removed]",
      "text/plain": [
       "<PIL.Image.Image image mode=L size=28x28 at 0x7FF166436CD0>"
      ]
     },
     "metadata": {},
     "output_type": "display_data"
    },
    {
     "data": {
      "image/png": "[encoded data removed]",
      "text/plain": [
       "<PIL.Image.Image image mode=L size=28x28 at 0x7FF166436F10>"
      ]
     },
     "metadata": {},
     "output_type": "display_data"
    },
    {
     "data": {
      "image/png": "[encoded data removed]",
      "text/plain": [
       "<PIL.Image.Image image mode=L size=28x28 at 0x7FF166441130>"
      ]
     },
     "metadata": {},
     "output_type": "display_data"
    },
    {
     "data": {
      "image/png": "[encoded data removed]",
      "text/plain": [
       "<PIL.Image.Image image mode=L size=28x28 at 0x7FF166436DF0>"
      ]
     },
     "metadata": {},
     "output_type": "display_data"
    },
    {
     "data": {
      "image/png": "[encoded data removed]",
      "text/plain": [
       "<PIL.Image.Image image mode=L size=28x28 at 0x7FF166436910>"
      ]
     },
     "metadata": {},
     "output_type": "display_data"
    },
    {
     "data": {
      "image/png": "[encoded data removed]",
      "text/plain": [
       "<PIL.Image.Image image mode=L size=28x28 at 0x7FF166436880>"
      ]
     },
     "metadata": {},
     "output_type": "display_data"
    },
    {
     "data": {
      "image/png": "[encoded data removed]",
      "text/plain": [
       "<PIL.Image.Image image mode=L size=28x28 at 0x7FF166436940>"
      ]
     },
     "metadata": {},
     "output_type": "display_data"
    },
    {
     "data": {
      "image/png": "[encoded data removed]",
      "text/plain": [
       "<PIL.Image.Image image mode=L size=28x28 at 0x7FF166436F40>"
      ]
     },
     "metadata": {},
     "output_type": "display_data"
    },
    {
     "data": {
      "image/png": "[encoded data removed]",
      "text/plain": [
       "<PIL.Image.Image image mode=L size=28x28 at 0x7FF166436B80>"
      ]
     },
     "metadata": {},
     "output_type": "display_data"
    },
    {
     "data": {
      "image/png": "[encoded data removed]",
      "text/plain": [
       "<PIL.Image.Image image mode=L size=28x28 at 0x7FF1664410D0>"
      ]
     },
     "metadata": {},
     "output_type": "display_data"
    },
    {
     "data": {
      "image/png": "[encoded data removed]",
      "text/plain": [
       "<PIL.Image.Image image mode=L size=28x28 at 0x7FF166436E80>"
      ]
     },
     "metadata": {},
     "output_type": "display_data"
    }
   ],
   "source": [
    "keyDict ={}\n",
    "counter=0\n",
    "for i in data[0][0][0][0][0][1]:\n",
    "    if data[0][0][0][0][0][1][counter][0] not in keyDict.keys():\n",
    "        #collList.append(counter)\n",
    "        keyDict[data[0][0][0][0][0][1][counter][0]] = counter\n",
    "    counter+=1\n",
    "imDict={}\n",
    "for i in keyDict.keys():\n",
    "    imDict[i] = Image.fromarray(data[0][0][0][0][0][0][keyDict[i]].reshape((28,28)).T)\n",
    "\n",
    "for i in sorted(imDict.keys()):\n",
    "    display(imDict[i])\n",
    "\n",
    "#this is a copy paste job from a different notebook, \n",
    "#please don't worry about the loops here- I'm sure they had a purpose at the time.\n",
    "#but anyways, this should grab an example of each possible character and display the image"
   ]
  },
  {
   "cell_type": "markdown",
   "id": "83fa67fa",
   "metadata": {},
   "source": [
    "# Quick Baselines"
   ]
  },
  {
   "cell_type": "code",
   "execution_count": null,
   "id": "64328bd8",
   "metadata": {},
   "outputs": [],
   "source": [
    "from sklearn.linear_model import LogisticRegression"
   ]
  },
  {
   "cell_type": "code",
   "execution_count": null,
   "id": "d5b7ce95",
   "metadata": {},
   "outputs": [],
   "source": [
    "lr = LogisticRegression()\n",
    "lr.fit(data[0][0][0][0][0][0],data[0][0][0][0][0][1])\n",
    "lr.score(data[0][0][1][0][0][0],data[0][0][1][0][0][1])"
   ]
  },
  {
   "cell_type": "markdown",
   "id": "0152336e",
   "metadata": {},
   "source": [
    "The above Logistic Regression model gave me an accuracy score of 0.7213018921451476. Took just north of 2.5 hours when I timed it"
   ]
  },
  {
   "cell_type": "code",
   "execution_count": null,
   "id": "ec523286",
   "metadata": {},
   "outputs": [],
   "source": [
    "from sklearn.neighbors import KNeighborsClassifier\n",
    "knn = KNeighborsClassifier(n_neighbors = 5)\n",
    "knn.fit(data[0][0][0][0][0][0],data[0][0][0][0][0][1])\n",
    "knn.score(data[0][0][1][0][0][0],data[0][0][1][0][0][1])\n",
    "\n",
    "#I tried scoring KNN on the full dataset for ~36 hours. It did not complete."
   ]
  },
  {
   "cell_type": "code",
   "execution_count": null,
   "id": "c993741b",
   "metadata": {},
   "outputs": [],
   "source": [
    "from sklearn.ensemble import RandomForestClassifier\n",
    "from sklearn.model_selection import train_test_split"
   ]
  },
  {
   "cell_type": "code",
   "execution_count": null,
   "id": "ea5c01a5",
   "metadata": {},
   "outputs": [],
   "source": [
    "X_train,X_test,y_train,y_test = train_test_split(data[0][0][0][0][0][0],data[0][0][0][0][0][1], test_size=0.3)\n",
    "rf = RandomForestClassifier()\n",
    "rf.fit(X_train,y_train)\n",
    "#got 0.8226143853281116 first time I ran it- looking pretty good!\n",
    "#also only took a half hour (note that this is a slightly abridged dataset, I just did a train/test split on \n",
    "#the training data instead of using the preallocated quantities. Choice to do so was somewhat arbitrary but I wanted\n",
    "#to speed things up)"
   ]
  },
  {
   "cell_type": "code",
   "execution_count": null,
   "id": "b3525337",
   "metadata": {},
   "outputs": [],
   "source": [
    "#I also tried an XGBoost model, which performed well, but run time was far too long to be a serious consideration\n",
    "#(even with a low dimensional PCA)\n",
    "pca = decomposition.PCA(n_components=1)\n",
    "X_train, X_test, y_train, y_test = train_test_split(train_arrs, train_labels, test_size=0.2, random_state=1)\n",
    "X_train, X_val, y_train, y_val = train_test_split(X_train, y_train, test_size=0.25, random_state=2)\n",
    "pca.fit(X_train)\n",
    "X_train = pca.transform(X_train)\n",
    "X_test = pca.transform(X_test)\n",
    "X_val = pca.transform(X_val)\n",
    "gbm = xgb.XGBClassifier( \n",
    "                        n_estimators=30000,\n",
    "                        max_depth=4,\n",
    "                        objective='multi:softmax', \n",
    "                        learning_rate=.05, \n",
    "                        subsample=.8,\n",
    "                        min_child_weight=3,\n",
    "                        colsample_bytree=.8,\n",
    "                        num_classes=62\n",
    "                       )\n",
    "eval_set=[(X_train,y_train),(X_val,y_val)]\n",
    "fit_model = gbm.fit( \n",
    "                    X_train, y_train, \n",
    "                    eval_set=eval_set,\n",
    "                    eval_metric='merror', #merror for multiclass error\n",
    "                    early_stopping_rounds=50,\n",
    "                    verbose=False\n",
    "                   )\n",
    "\n",
    "accuracy_score(y_test, gbm.predict(X_test, ntree_limit=gbm.best_ntree_limit)) \n",
    "\n"
   ]
  },
  {
   "cell_type": "markdown",
   "id": "e24e4708",
   "metadata": {},
   "source": [
    "# PCA"
   ]
  },
  {
   "cell_type": "markdown",
   "id": "066ed276",
   "metadata": {},
   "source": [
    "Alright! Let's move on to tuning the PCA # of components and see where that lands us after a while!"
   ]
  },
  {
   "cell_type": "code",
   "execution_count": null,
   "id": "b5334a70",
   "metadata": {},
   "outputs": [],
   "source": [
    "scores = []\n",
    "for i in range(1,65):\n",
    "    scaler = StandardScaler()\n",
    "    pca = decomposition.PCA(n_components=i)\n",
    "    X_train,X_test,y_train,y_test = train_test_split(train_arrs,train_labels, test_size=0.3)\n",
    "    X_train = scaler.fit_transform(X_train)\n",
    "    X_test = scaler.transform(X_test)\n",
    "    pca.fit(X_train)\n",
    "    X_train = pca.transform(X_train)\n",
    "    X_test = pca.transform(X_test)\n",
    "    dt = DecisionTreeClassifier()\n",
    "    dt.fit(X_train,y_train)\n",
    "    lr = LogisticRegression(max_iter=100000)\n",
    "    lr.fit(X_train,y_train)\n",
    "    rf = RandomForestClassifier()\n",
    "    rf.fit(X_train,y_train)\n",
    "    temp1=lr.score(X_test,y_test)\n",
    "    temp2=dt.score(X_test,y_test)\n",
    "    temp3=rf.score(X_test,y_test)\n",
    "    print(temp1)\n",
    "    print(temp2)\n",
    "    print(temp3)\n",
    "    print('break')\n",
    "    scores.append(temp1)\n",
    "    scores.append(temp2)\n",
    "    scores.append(temp3)\n",
    "    scores.append(\"End of this round, n=\"+str(i))"
   ]
  },
  {
   "cell_type": "code",
   "execution_count": 1,
   "id": "994b1651",
   "metadata": {},
   "outputs": [],
   "source": [
    "#Ignore this, I'm basically just recreating the results from a previous output\n",
    "scores = [0.1331,0.0724,0.0724,0.20076666666666668,0.12126666666666666,0.15113333333333334,\n",
    " 0.22606666666666667,0.15183333333333332,0.21646666666666667,0.2688333333333333,0.1952,0.2978,0.3238,\n",
    " 0.2680666666666667,0.3953,0.36456666666666665,0.33376666666666666,0.48036666666666666,0.4076,0.38776666666666665,0.5486,\n",
    " 0.4631,0.4402333333333333,0.6140333333333333,0.5032666666666666,0.4736,0.6523666666666667,0.5270333333333334,\n",
    " 0.4845,0.6690333333333334,0.5543666666666667,0.49433333333333335,0.6842333333333334,0.5667,0.5020333333333333,\n",
    " 0.6904333333333333,0.5774666666666667,0.4977,0.6953,0.5900666666666666,0.5058666666666667,0.7021333333333334,\n",
    " 0.6031,0.5106,0.7105,0.6084333333333334,0.5115333333333333,0.7143666666666667,0.622,0.5118666666666667,0.7196333333333333,\n",
    " 0.6229,0.5163,0.7235666666666667,0.6374333333333333,0.5145,0.7288333333333333,0.6383,0.5200666666666667,0.7230333333333333,\n",
    " 0.6376666666666667,0.5158666666666667,0.725,0.6467333333333334,0.5135,0.7311333333333333,0.6503666666666666,0.5180333333333333,0.7314666666666667,\n",
    " 0.6553333333333333,0.5168,0.7295,0.6552666666666667,0.5144333333333333,0.7302666666666666,0.6677666666666666,\n",
    " 0.5187666666666667,\n",
    " 0.7375666666666667,\n",
    " 0.6632666666666667,\n",
    " 0.5117666666666667,\n",
    " 0.7310666666666666,\n",
    " 0.6662666666666667,\n",
    " 0.5173333333333333,\n",
    " 0.7356666666666667,\n",
    " 0.6693,\n",
    " 0.5215666666666666,\n",
    " 0.7327,\n",
    " 0.6764,\n",
    " 0.5202333333333333,\n",
    " 0.7371,\n",
    " 0.6720666666666667,\n",
    " 0.5207666666666667,\n",
    " 0.7331333333333333,\n",
    " 0.6794666666666667,\n",
    " 0.5205,\n",
    " 0.7376,\n",
    " 0.6805666666666667,\n",
    " 0.5165333333333333,\n",
    " 0.7369,\n",
    " 0.6804333333333333,\n",
    " 0.5123666666666666,\n",
    " 0.7353666666666666,\n",
    " 0.6856,\n",
    " 0.5227,\n",
    " 0.7381333333333333,\n",
    " 0.6856333333333333,\n",
    " 0.5173333333333333,\n",
    " 0.7362,\n",
    " 0.6831666666666667,\n",
    " 0.5101666666666667,\n",
    " 0.7357333333333334,\n",
    " 0.6904,\n",
    " 0.5213333333333333,\n",
    " 0.7396,\n",
    " 0.6937,\n",
    " 0.5227333333333334,\n",
    " 0.7401,\n",
    " 0.6938,\n",
    " 0.5167333333333334,\n",
    " 0.7412666666666666,\n",
    " 0.6913333333333334,\n",
    " 0.5161,\n",
    " 0.7375,\n",
    " 0.6943333333333334,\n",
    " 0.5118666666666667,\n",
    " 0.7381333333333333,\n",
    " 0.6937666666666666,\n",
    " 0.5108333333333334,\n",
    " 0.7396666666666667,\n",
    " 0.6936333333333333,\n",
    " 0.5175333333333333,\n",
    " 0.7356333333333334,\n",
    " 0.6939333333333333,\n",
    " 0.5141,\n",
    " 0.7358333333333333,\n",
    " 0.6848,\n",
    " 0.5167666666666667,\n",
    " 0.7297666666666667,\n",
    " 0.6952333333333334,\n",
    " 0.5226333333333333,\n",
    " 0.7364666666666667,\n",
    " 0.6941666666666667,\n",
    " 0.5158333333333334,\n",
    " 0.7327,\n",
    " 0.6961333333333334,\n",
    " 0.5122666666666666,\n",
    " 0.7330333333333333,\n",
    " 0.7016,\n",
    " 0.5146666666666667,\n",
    " 0.7368,\n",
    " 0.6971333333333334,\n",
    " 0.5121333333333333,\n",
    " 0.7347666666666667,\n",
    " 0.6994333333333334,\n",
    " 0.5090666666666667,\n",
    " 0.7339,\n",
    " 0.6976333333333333,\n",
    " 0.5111333333333333,\n",
    " 0.7337666666666667,\n",
    " 0.6975,\n",
    " 0.5119,\n",
    " 0.7332333333333333,\n",
    " 0.7012666666666667,\n",
    " 0.5100333333333333,\n",
    " 0.7335666666666667,\n",
    " 0.7002333333333334,\n",
    " 0.5129666666666667,\n",
    " 0.7323333333333333,\n",
    " 0.7018,\n",
    " 0.5122333333333333,\n",
    " 0.7333666666666666,\n",
    " 0.6999,\n",
    " 0.5081333333333333,\n",
    " 0.7303,\n",
    " 0.7057,\n",
    " 0.5087333333333334,\n",
    " 0.7351,\n",
    " 0.6991,\n",
    " 0.5062333333333333,\n",
    " 0.7278333333333333,\n",
    " 0.7034333333333334,\n",
    " 0.5113,\n",
    " 0.7327666666666667,\n",
    " 0.7065,\n",
    " 0.5133666666666666,\n",
    " 0.7341333333333333,\n",
    " 0.7037,\n",
    " 0.5031,\n",
    " 0.7322333333333333,\n",
    " 0.7068,\n",
    " 0.5103666666666666,\n",
    " 0.7304333333333334,\n",
    " 0.7028,\n",
    " 0.509,\n",
    " 0.7268]\n",
    "lrList=[]\n",
    "dtList=[]\n",
    "rfList=[]\n",
    "count = 0\n",
    "for i in scores:\n",
    "    if count==0:\n",
    "        lrList.append(i)\n",
    "    elif count==1:\n",
    "        dtList.append(i)\n",
    "    elif count==2:\n",
    "        rfList.append(i)\n",
    "    count+=1\n",
    "    if count==3:\n",
    "        count=0"
   ]
  },
  {
   "cell_type": "code",
   "execution_count": 2,
   "id": "e48a7e6c",
   "metadata": {},
   "outputs": [],
   "source": [
    "import matplotlib.pyplot as plt"
   ]
  },
  {
   "cell_type": "code",
   "execution_count": 3,
   "id": "74cb36c2",
   "metadata": {},
   "outputs": [
    {
     "data": {
      "image/png": "[encoded data removed]",
      "text/plain": [
       "<Figure size 432x288 with 1 Axes>"
      ]
     },
     "metadata": {
      "needs_background": "light"
     },
     "output_type": "display_data"
    }
   ],
   "source": [
    "plt.plot(range(0,65),lrList, label = 'Logistic Regression')\n",
    "plt.plot(range(0,65),dtList, label = 'Decision Tree')\n",
    "plt.plot(range(0,65),rfList, label = 'Random Forest')\n",
    "plt.xlabel('Number of Components')\n",
    "plt.ylabel('Accuracy Score')\n",
    "plt.title('PCA Components vs Accuracy')\n",
    "plt.legend();"
   ]
  },
  {
   "cell_type": "markdown",
   "id": "e16411fd",
   "metadata": {},
   "source": [
    "So looks like in general, Random Forest performs the best (at least, without any tuning on any of these), and it seems to cap out roughly around n=20, so let's just kinda run with that!"
   ]
  },
  {
   "cell_type": "markdown",
   "id": "1b55fbaa",
   "metadata": {},
   "source": [
    "# Tuning RF Hyperparameters"
   ]
  },
  {
   "cell_type": "markdown",
   "id": "2985849c",
   "metadata": {},
   "source": [
    "I spent a fair amount of time fiddling around with the hyperparameters for random forest, and a lot of that is now lost, but I'm including here an example approach using RandomizedSearchCV"
   ]
  },
  {
   "cell_type": "markdown",
   "id": "b95b6008",
   "metadata": {},
   "source": [
    "Also, note that I didn't actually use a pipeline in this case, as I really wasn't sure on how to best approach it here. As a result, I had to perform the PCA transform on the data AHEAD of running it through the search CV. This is obviously inappropriate, in essence you're having your test data interfere with your training, but alas I wasn't too sure how to best apply a pipeline such that, within the search CV, it would create and apply a PCA from JUST the training data, and not the validation and test data additionally."
   ]
  },
  {
   "cell_type": "code",
   "execution_count": null,
   "id": "0a479652",
   "metadata": {},
   "outputs": [],
   "source": [
    "scaler = StandardScaler()\n",
    "train_arrs = scaler.fit_transform(train_arrs)\n",
    "pca = decomposition.PCA(n_components=20)\n",
    "pca.fit(train_arrs)\n",
    "train_arrs = pca.transform(train_arrs)"
   ]
  },
  {
   "cell_type": "code",
   "execution_count": null,
   "id": "95443a9a",
   "metadata": {},
   "outputs": [],
   "source": [
    "max_depth = [int(x) for x in np.linspace(90, 150, num = 5)]\n",
    "max_depth.append(None)\n",
    "max_features= ['auto','sqrt']\n",
    "#bootstrap = [True, False]\n",
    "n_estimators = [int(x) for x in np.linspace(start = 100, stop = 500, num = 4)]\n",
    "\n",
    "model_params = {\n",
    "    'n_estimators': n_estimators,\n",
    "    'max_features': max_features,\n",
    "    'max_depth':max_depth\n",
    "    #'bootstrap':bootstrap\n",
    "}"
   ]
  },
  {
   "cell_type": "code",
   "execution_count": null,
   "id": "ffd01b93",
   "metadata": {},
   "outputs": [],
   "source": [
    "# create random forest classifier model\n",
    "rf_model = RandomForestClassifier()\n",
    "\n",
    "# set up random search meta-estimator\n",
    "# this will train 100 models over 5 folds of cross validation (50 models total)\n",
    "clf = RandomizedSearchCV(rf_model, model_params, n_iter=10, cv=5, random_state=1)\n",
    "#generally was forced to use a low iteration count just due to run-time.\n",
    "\n",
    "# train the random search meta-estimator to find the best model out of 100 candidates\n",
    "model = clf.fit(X, y)\n",
    "\n",
    "# print winning set of hyperparameters\n",
    "from pprint import pprint\n",
    "pprint(model.best_estimator_.get_params())\n",
    "\n",
    "print(model.best_estimator_.score)"
   ]
  },
  {
   "cell_type": "markdown",
   "id": "e1e3d90a",
   "metadata": {},
   "source": [
    "# A quick look into feature selection"
   ]
  },
  {
   "cell_type": "markdown",
   "id": "a3a2aac6",
   "metadata": {},
   "source": [
    "I also went the route of testing out a feature SELECTION approach. I used SKLearn's built in mutual information package to get a ranking of feature importance and then ran those (with increasing number of features) through random forest as well:"
   ]
  },
  {
   "cell_type": "code",
   "execution_count": null,
   "id": "064fabfb",
   "metadata": {},
   "outputs": [],
   "source": [
    "train_arrs = data[0][0][0][0][0][0]\n",
    "train_labels = data[0][0][0][0][0][1]\n",
    "mi = mutual_info_classif(train_arrs,train_labels)\n",
    "mi"
   ]
  },
  {
   "cell_type": "code",
   "execution_count": null,
   "id": "0450a4ab",
   "metadata": {},
   "outputs": [],
   "source": [
    "np.argsort(mi) #gives ascending\n",
    "indexList= np.argsort(mi).reverse()"
   ]
  },
  {
   "cell_type": "code",
   "execution_count": null,
   "id": "75174b8c",
   "metadata": {},
   "outputs": [],
   "source": [
    "toColumns = list(zip(*train_arrs)) #row to column swap, makes it easier to actually snag the columns of data\n",
    "scores=[]\n",
    "for i in range(2,65):\n",
    "    #need to snag the appropriate features\n",
    "    count=1\n",
    "    data = np.array(toColumns[indexList[0]])\n",
    "    while count<i:   \n",
    "        data = np.column_stack((data,np.array(toColumns[indexList[count]]).reshape(len(toColumns[i]),1)))\n",
    "        count+=1\n",
    "    #then do the modeling\n",
    "    X_train,X_test,y_train,y_test = train_test_split(data,train_labels, test_size=0.3)\n",
    "    rf = RandomForestClassifier()\n",
    "    rf.fit(X_train,y_train)\n",
    "    temp = rf.score(X_test,y_test)\n",
    "    print(temp)\n",
    "    scores.append(temp)\n",
    "#this is actually a lot more complicated than it looks\n",
    "#anyways, this isn't nearly as good as PCA, when i ran it I got \n",
    "#0.5948 accuracy for n_features = 65"
   ]
  }
 ],
 "metadata": {
  "kernelspec": {
   "display_name": "Python [conda env:metis] *",
   "language": "python",
   "name": "conda-env-metis-py"
  },
  "language_info": {
   "codemirror_mode": {
    "name": "ipython",
    "version": 3
   },
   "file_extension": ".py",
   "mimetype": "text/x-python",
   "name": "python",
   "nbconvert_exporter": "python",
   "pygments_lexer": "ipython3",
   "version": "3.8.8"
  }
 },
 "nbformat": 4,
 "nbformat_minor": 5
}
