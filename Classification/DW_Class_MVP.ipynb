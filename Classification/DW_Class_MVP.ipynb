{
 "cells": [
  {
   "cell_type": "code",
   "execution_count": null,
   "id": "291872da",
   "metadata": {},
   "outputs": [],
   "source": [
    "import numpy as np\n",
    "import matplotlib.pyplot as plt\n",
    "import pandas as pd\n",
    "from scipy.io import loadmat\n",
    "from sklearn.linear_model import LogisticRegression\n",
    "from sklearn import decomposition\n",
    "from sklearn.neighbors import KNeighborsClassifier\n",
    "from sklearn.tree import DecisionTreeClassifier"
   ]
  },
  {
   "cell_type": "code",
   "execution_count": null,
   "id": "cbeba465",
   "metadata": {},
   "outputs": [],
   "source": [
    "loadFile = loadmat('emnist-byclass.mat')\n",
    "data = loadFile['dataset']\n",
    "train_arrs = data[0][0][0][0][0][0]\n",
    "train_labels = data[0][0][0][0][0][1]"
   ]
  },
  {
   "cell_type": "markdown",
   "id": "a00022f3",
   "metadata": {},
   "source": [
    "Note that above, technically am JUST taking the training data (EMNIST comes pre-split), but that's more than enough as proof of concept, to be honest."
   ]
  },
  {
   "cell_type": "markdown",
   "id": "dfcc8b13",
   "metadata": {},
   "source": [
    "As a bit of a baseline, let's take a look at LogisticRegression acting on the full feature set.\n",
    "(not actually running the code here since it takes a while, just going to copy paste output from a different notebook)"
   ]
  },
  {
   "cell_type": "code",
   "execution_count": null,
   "id": "d0b8e380",
   "metadata": {},
   "outputs": [],
   "source": [
    "lr = LogisticRegression()\n",
    "lr.fit(train_arrs,train_labels)\n",
    "lr.score(data[0][0][1][0][0][0],data[0][0][1][0][0][1])\n",
    "#the above portions of the data array are the test sets"
   ]
  },
  {
   "cell_type": "markdown",
   "id": "7645b9e7",
   "metadata": {},
   "source": [
    "lr.score on testing data spits out:\n",
    "\n",
    "0.7213018921451476\n",
    "\n",
    "So actually- not that bad! Let's see how close we can get playing around with PCA"
   ]
  },
  {
   "cell_type": "markdown",
   "id": "2e7fd2e3",
   "metadata": {},
   "source": [
    "# Let's start with the most bare-bones PCA features, so like n=1"
   ]
  },
  {
   "cell_type": "code",
   "execution_count": null,
   "id": "d94fdcdb",
   "metadata": {},
   "outputs": [],
   "source": [
    "scores = []\n",
    "for i in range(1,2):\n",
    "    pca = decomposition.PCA(n_components=i)\n",
    "    X_train,X_test,y_train,y_test = train_test_split(train_arrs,train_labels, test_size=0.3)\n",
    "    pca.fit(X_train)\n",
    "    X_train = pca.transform(X_train)\n",
    "    X_test = pca.transform(X_test)\n",
    "    lr = LogisticRegression(max_iter = 10000)\n",
    "    lr.fit(X_train,y_train)\n",
    "    scores1.append(lr.score(X_test,y_test))\n",
    "\n",
    "scores"
   ]
  },
  {
   "cell_type": "markdown",
   "id": "0c0f961c",
   "metadata": {},
   "source": [
    "Output:\n",
    "[0.14522474968908144]\n"
   ]
  },
  {
   "cell_type": "markdown",
   "id": "41031a12",
   "metadata": {},
   "source": [
    "More generally for n=1,2,3,4 for LR, KNN and Decision Trees "
   ]
  },
  {
   "cell_type": "code",
   "execution_count": 3,
   "id": "343f7c1f",
   "metadata": {},
   "outputs": [],
   "source": [
    "LRs = [0.14893495080714492,0.22582386092272425,0.25642372719457446,0.3212150157608177]\n",
    "KNNs = [0.11940013372814978,0.1824529563473111,0.23330786130480466,0.33317413315502914]\n",
    "DTs = [0.08586302416658706,0.13651733689941734,0.17330213009838571,0.25805712102397554]\n",
    "#accuracy scores "
   ]
  },
  {
   "cell_type": "code",
   "execution_count": 1,
   "id": "244be475",
   "metadata": {},
   "outputs": [],
   "source": [
    "import matplotlib.pyplot as plt"
   ]
  },
  {
   "cell_type": "code",
   "execution_count": 8,
   "id": "fb0c5308",
   "metadata": {},
   "outputs": [
    {
     "data": {
      "image/png": "[encoded data removed]",
      "text/plain": [
       "<Figure size 432x288 with 1 Axes>"
      ]
     },
     "metadata": {
      "needs_background": "light"
     },
     "output_type": "display_data"
    }
   ],
   "source": [
    "plt.plot([1,2,3,4],LRs, label = 'LogReg')\n",
    "plt.plot([1,2,3,4],KNNs, label = 'KNN')\n",
    "plt.plot([1,2,3,4],DTs, label = 'DecisionTree')\n",
    "plt.xlabel('PCA N-Count')\n",
    "plt.ylabel('Accuracy')\n",
    "plt.legend();"
   ]
  },
  {
   "cell_type": "markdown",
   "id": "cd272d1b",
   "metadata": {},
   "source": [
    "And then lastly, looking at PCA with n_components = 39,40, you can see that we're getting pretty close to baseline (atleast for LR)"
   ]
  },
  {
   "cell_type": "code",
   "execution_count": null,
   "id": "7e46e7e6",
   "metadata": {},
   "outputs": [],
   "source": [
    "scores2 = []\n",
    "for i in range(39,41):\n",
    "    pca = decomposition.PCA(n_components=i)\n",
    "    X_train,X_test,y_train,y_test = train_test_split(train_arrs,train_labels, test_size=0.3)\n",
    "    pca.fit(X_train)\n",
    "    X_train = pca.transform(X_train)\n",
    "    X_test = pca.transform(X_test)\n",
    "    lr = LogisticRegression(max_iter = 10000)\n",
    "    lr.fit(X_train,y_train)\n",
    "    #knn = KNeighborsClassifier(n_neighbors = 5)\n",
    "    #knn.fit(trainPCA,train_labels)\n",
    "    scores2.append(lr.score(X_test,y_test))\n",
    "    #scores.append(knn.score(trainPCA,train_labels))\n",
    "    \n",
    "scores2"
   ]
  },
  {
   "cell_type": "markdown",
   "id": "e7e9fc60",
   "metadata": {},
   "source": [
    "Output: [0.6936956729391537, 0.69344254465565]"
   ]
  },
  {
   "cell_type": "code",
   "execution_count": null,
   "id": "faece6b7",
   "metadata": {},
   "outputs": [],
   "source": []
  }
 ],
 "metadata": {
  "kernelspec": {
   "display_name": "Python [conda env:metis] *",
   "language": "python",
   "name": "conda-env-metis-py"
  },
  "language_info": {
   "codemirror_mode": {
    "name": "ipython",
    "version": 3
   },
   "file_extension": ".py",
   "mimetype": "text/x-python",
   "name": "python",
   "nbconvert_exporter": "python",
   "pygments_lexer": "ipython3",
   "version": "3.8.8"
  }
 },
 "nbformat": 4,
 "nbformat_minor": 5
}
