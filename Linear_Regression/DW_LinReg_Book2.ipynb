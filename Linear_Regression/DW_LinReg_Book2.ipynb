{
 "cells": [
  {
   "cell_type": "code",
   "execution_count": 1,
   "id": "b7a0ae76",
   "metadata": {},
   "outputs": [],
   "source": [
    "import pandas as pd\n",
    "import numpy as np\n",
    "\n",
    "import matplotlib.pyplot as plt\n",
    "import seaborn as sns\n",
    "sns.set()\n",
    "\n",
    "%matplotlib inline"
   ]
  },
  {
   "cell_type": "code",
   "execution_count": 2,
   "id": "83b63098",
   "metadata": {},
   "outputs": [],
   "source": [
    "df = pd.read_csv('dataFinal.csv')"
   ]
  },
  {
   "cell_type": "code",
   "execution_count": 3,
   "id": "cc5bea3c",
   "metadata": {},
   "outputs": [],
   "source": [
    "dfWithMPAA = df.copy()\n",
    "dfNoMPAA = df.copy()\n",
    "del dfNoMPAA['MPAA']"
   ]
  },
  {
   "cell_type": "code",
   "execution_count": 4,
   "id": "f275a0ea",
   "metadata": {},
   "outputs": [],
   "source": [
    "dfWithMPAA.dropna(inplace=True)\n",
    "dfNoMPAA.dropna(inplace=True)"
   ]
  },
  {
   "cell_type": "code",
   "execution_count": 5,
   "id": "da436ba3",
   "metadata": {},
   "outputs": [],
   "source": [
    "#for both dropping any rows with wrong month values\n",
    "#may want to revisit this- might be month is useless tbh\n",
    "months =['September', 'March', 'July', 'November', 'April', 'December',\n",
    "       'October', 'May', 'January', 'February', 'August', 'June',]\n",
    "maskMPAA = dfWithMPAA['Month of Release'].isin(months)\n",
    "maskNoMPAA = dfNoMPAA['Month of Release'].isin(months)"
   ]
  },
  {
   "cell_type": "code",
   "execution_count": 6,
   "id": "70a5b25e",
   "metadata": {},
   "outputs": [],
   "source": [
    "dfWithMPAA = dfWithMPAA[maskMPAA]\n",
    "dfNoMPAA = dfNoMPAA[maskNoMPAA]"
   ]
  },
  {
   "cell_type": "code",
   "execution_count": 7,
   "id": "fcb92a8c",
   "metadata": {},
   "outputs": [],
   "source": [
    "dfWithMPAA['Title Length'] = dfWithMPAA.Title.apply(len)\n",
    "dfNoMPAA['Title Length'] = dfNoMPAA.Title.apply(len)"
   ]
  },
  {
   "cell_type": "code",
   "execution_count": 8,
   "id": "9670709d",
   "metadata": {},
   "outputs": [],
   "source": [
    "def yearsSince(x):\n",
    "    return (2021-int(x))\n",
    "    \n",
    "dfWithMPAA['Years Since Release'] = dfWithMPAA.Year.apply(yearsSince)\n",
    "dfNoMPAA['Years Since Release'] = dfNoMPAA.Year.apply(yearsSince)"
   ]
  },
  {
   "cell_type": "code",
   "execution_count": 9,
   "id": "802189f3",
   "metadata": {},
   "outputs": [],
   "source": [
    "currencyDict = {\n",
    "    '$':1,'INR':74.08,'BRL':5.30,'JPY':109.66,'EUR':0.83,'GBP':0.71,\n",
    "    'TRL':8.43,'RUR':74.73,'KRW':1132.90,'AUD':1.29,'CAD':1.21,'DKK':6.16,\n",
    "    'SEK':8.42, 'FRF':1,'ITL':1,'DEM':1,'ESP':1\n",
    "}\n",
    "def currencyFunc(x):\n",
    "    multiplier = currencyDict.get(x['Currency'])\n",
    "    return x['Budget']/multiplier\n",
    "\n",
    "#okay lets at this point split up the dfs a bit in terms of approach\n",
    "#i'm going to drop all non extant currencies from the NoMPAA df\n",
    "\n",
    "extantCurrency = ['$','INR','BRL','JPY','EUR','GBP','TRL','RUR','KRW','AUD','CAD','DKK','SEK']\n",
    "maskCurrency = dfNoMPAA['Currency'].isin(extantCurrency)\n",
    "dfNoMPAA = dfNoMPAA[maskCurrency]\n",
    "\n",
    "\n",
    "dfNoMPAA['BudgetAdj'] = dfNoMPAA.apply(currencyFunc, axis=1)\n",
    "dfWithMPAA['BudgetAdj'] = dfWithMPAA.apply(currencyFunc, axis=1)"
   ]
  },
  {
   "cell_type": "code",
   "execution_count": 11,
   "id": "be548e56",
   "metadata": {},
   "outputs": [],
   "source": [
    "#reset index and cleanup columns\n",
    "\n",
    "dfNoMPAA = dfNoMPAA.reset_index()\n",
    "dfWithMPAA = dfWithMPAA.reset_index()"
   ]
  },
  {
   "cell_type": "code",
   "execution_count": 14,
   "id": "fa97ab75",
   "metadata": {},
   "outputs": [],
   "source": [
    "del dfNoMPAA['index']\n",
    "del dfWithMPAA['index']"
   ]
  },
  {
   "cell_type": "markdown",
   "id": "8fc38343",
   "metadata": {},
   "source": [
    "# Okay at this point we create dummies"
   ]
  },
  {
   "cell_type": "code",
   "execution_count": 15,
   "id": "9b129be6",
   "metadata": {},
   "outputs": [
    {
     "name": "stdout",
     "output_type": "stream",
     "text": [
      "<class 'pandas.core.frame.DataFrame'>\n",
      "RangeIndex: 500 entries, 0 to 499\n",
      "Data columns (total 13 columns):\n",
      " #   Column               Non-Null Count  Dtype  \n",
      "---  ------               --------------  -----  \n",
      " 0   BW or Color          500 non-null    object \n",
      " 1   Budget               500 non-null    float64\n",
      " 2   Currency             500 non-null    object \n",
      " 3   Genre                500 non-null    object \n",
      " 4   MPAA                 500 non-null    object \n",
      " 5   Month of Release     500 non-null    object \n",
      " 6   Rating               500 non-null    float64\n",
      " 7   Runtime              500 non-null    float64\n",
      " 8   Title                500 non-null    object \n",
      " 9   Year                 500 non-null    int64  \n",
      " 10  Title Length         500 non-null    int64  \n",
      " 11  Years Since Release  500 non-null    int64  \n",
      " 12  BudgetAdj            500 non-null    float64\n",
      "dtypes: float64(4), int64(3), object(6)\n",
      "memory usage: 50.9+ KB\n"
     ]
    }
   ],
   "source": [
    "dfWithMPAA.info()"
   ]
  },
  {
   "cell_type": "code",
   "execution_count": 16,
   "id": "955acd11",
   "metadata": {},
   "outputs": [],
   "source": [
    "dummyMonths1 = pd.get_dummies(dfNoMPAA['Month of Release'], drop_first=True)\n",
    "dummyMonths2 = pd.get_dummies(dfWithMPAA['Month of Release'], drop_first=True)"
   ]
  },
  {
   "cell_type": "code",
   "execution_count": 17,
   "id": "50749e4d",
   "metadata": {},
   "outputs": [],
   "source": [
    "dfNoMPAA = pd.concat([dfNoMPAA,dummyMonths1],axis=1)\n",
    "dfWithMPAA = pd.concat([dfWithMPAA,dummyMonths2],axis=1)"
   ]
  },
  {
   "cell_type": "code",
   "execution_count": 18,
   "id": "1879ed63",
   "metadata": {},
   "outputs": [],
   "source": [
    "#i should've made copies before addending the month stuff. whatever not a big deal\n",
    "genresDF1 = pd.DataFrame()\n",
    "genresDF2 = pd.DataFrame()\n",
    "def genreFunc(string,word):\n",
    "    if word in string:\n",
    "        return 1\n",
    "    else:\n",
    "        return 0\n",
    "\n",
    "genreList = ['Action','Adventure','Animation','Comedy','Crime','Family','Fantasy','Drama','Thriller','Romance','Mystery',\n",
    "          'Biography','Musical','Music','History','Horror','Sci-Fi','Sport','Film-Noir','War','Western']\n",
    "for i in genreList: \n",
    "    genresDF1[i] = dfNoMPAA.Genre.apply(genreFunc,word=i)\n",
    "    genresDF2[i] = dfWithMPAA.Genre.apply(genreFunc,word=i)"
   ]
  },
  {
   "cell_type": "code",
   "execution_count": 19,
   "id": "5a66a64b",
   "metadata": {},
   "outputs": [],
   "source": [
    "dfNoMPAA = pd.concat([dfNoMPAA,genresDF1],axis=1)"
   ]
  },
  {
   "cell_type": "code",
   "execution_count": 20,
   "id": "6d6425a7",
   "metadata": {},
   "outputs": [],
   "source": [
    "dfWithMPAA = pd.concat([dfWithMPAA,genresDF2],axis=1)"
   ]
  },
  {
   "cell_type": "code",
   "execution_count": 21,
   "id": "e245150e",
   "metadata": {},
   "outputs": [
    {
     "data": {
      "text/html": [
       "<div>\n",
       "<style scoped>\n",
       "    .dataframe tbody tr th:only-of-type {\n",
       "        vertical-align: middle;\n",
       "    }\n",
       "\n",
       "    .dataframe tbody tr th {\n",
       "        vertical-align: top;\n",
       "    }\n",
       "\n",
       "    .dataframe thead th {\n",
       "        text-align: right;\n",
       "    }\n",
       "</style>\n",
       "<table border=\"1\" class=\"dataframe\">\n",
       "  <thead>\n",
       "    <tr style=\"text-align: right;\">\n",
       "      <th></th>\n",
       "      <th>BW or Color</th>\n",
       "      <th>Budget</th>\n",
       "      <th>Currency</th>\n",
       "      <th>Genre</th>\n",
       "      <th>Month of Release</th>\n",
       "      <th>Rating</th>\n",
       "      <th>Runtime</th>\n",
       "      <th>Title</th>\n",
       "      <th>Year</th>\n",
       "      <th>Title Length</th>\n",
       "      <th>...</th>\n",
       "      <th>Biography</th>\n",
       "      <th>Musical</th>\n",
       "      <th>Music</th>\n",
       "      <th>History</th>\n",
       "      <th>Horror</th>\n",
       "      <th>Sci-Fi</th>\n",
       "      <th>Sport</th>\n",
       "      <th>Film-Noir</th>\n",
       "      <th>War</th>\n",
       "      <th>Western</th>\n",
       "    </tr>\n",
       "  </thead>\n",
       "  <tbody>\n",
       "    <tr>\n",
       "      <th>0</th>\n",
       "      <td>Color</td>\n",
       "      <td>25000000.0</td>\n",
       "      <td>$</td>\n",
       "      <td>Drama</td>\n",
       "      <td>September</td>\n",
       "      <td>9.3</td>\n",
       "      <td>142.0</td>\n",
       "      <td>The Shawshank Redemption</td>\n",
       "      <td>1994</td>\n",
       "      <td>24</td>\n",
       "      <td>...</td>\n",
       "      <td>0</td>\n",
       "      <td>0</td>\n",
       "      <td>0</td>\n",
       "      <td>0</td>\n",
       "      <td>0</td>\n",
       "      <td>0</td>\n",
       "      <td>0</td>\n",
       "      <td>0</td>\n",
       "      <td>0</td>\n",
       "      <td>0</td>\n",
       "    </tr>\n",
       "    <tr>\n",
       "      <th>1</th>\n",
       "      <td>Color</td>\n",
       "      <td>6000000.0</td>\n",
       "      <td>$</td>\n",
       "      <td>CrimeDrama</td>\n",
       "      <td>March</td>\n",
       "      <td>9.2</td>\n",
       "      <td>175.0</td>\n",
       "      <td>The Godfather</td>\n",
       "      <td>1972</td>\n",
       "      <td>13</td>\n",
       "      <td>...</td>\n",
       "      <td>0</td>\n",
       "      <td>0</td>\n",
       "      <td>0</td>\n",
       "      <td>0</td>\n",
       "      <td>0</td>\n",
       "      <td>0</td>\n",
       "      <td>0</td>\n",
       "      <td>0</td>\n",
       "      <td>0</td>\n",
       "      <td>0</td>\n",
       "    </tr>\n",
       "    <tr>\n",
       "      <th>2</th>\n",
       "      <td>Color</td>\n",
       "      <td>150000000.0</td>\n",
       "      <td>INR</td>\n",
       "      <td>Drama</td>\n",
       "      <td>November</td>\n",
       "      <td>9.1</td>\n",
       "      <td>153.0</td>\n",
       "      <td>Soorarai Pottru</td>\n",
       "      <td>2020</td>\n",
       "      <td>15</td>\n",
       "      <td>...</td>\n",
       "      <td>0</td>\n",
       "      <td>0</td>\n",
       "      <td>0</td>\n",
       "      <td>0</td>\n",
       "      <td>0</td>\n",
       "      <td>0</td>\n",
       "      <td>0</td>\n",
       "      <td>0</td>\n",
       "      <td>0</td>\n",
       "      <td>0</td>\n",
       "    </tr>\n",
       "    <tr>\n",
       "      <th>3</th>\n",
       "      <td>Color</td>\n",
       "      <td>185000000.0</td>\n",
       "      <td>$</td>\n",
       "      <td>ActionCrimeDramaThriller</td>\n",
       "      <td>July</td>\n",
       "      <td>9.0</td>\n",
       "      <td>152.0</td>\n",
       "      <td>The Dark Knight</td>\n",
       "      <td>2008</td>\n",
       "      <td>15</td>\n",
       "      <td>...</td>\n",
       "      <td>0</td>\n",
       "      <td>0</td>\n",
       "      <td>0</td>\n",
       "      <td>0</td>\n",
       "      <td>0</td>\n",
       "      <td>0</td>\n",
       "      <td>0</td>\n",
       "      <td>0</td>\n",
       "      <td>0</td>\n",
       "      <td>0</td>\n",
       "    </tr>\n",
       "    <tr>\n",
       "      <th>4</th>\n",
       "      <td>Color</td>\n",
       "      <td>13000000.0</td>\n",
       "      <td>$</td>\n",
       "      <td>CrimeDrama</td>\n",
       "      <td>November</td>\n",
       "      <td>9.0</td>\n",
       "      <td>220.0</td>\n",
       "      <td>The Godfather: Part II</td>\n",
       "      <td>1974</td>\n",
       "      <td>22</td>\n",
       "      <td>...</td>\n",
       "      <td>0</td>\n",
       "      <td>0</td>\n",
       "      <td>0</td>\n",
       "      <td>0</td>\n",
       "      <td>0</td>\n",
       "      <td>0</td>\n",
       "      <td>0</td>\n",
       "      <td>0</td>\n",
       "      <td>0</td>\n",
       "      <td>0</td>\n",
       "    </tr>\n",
       "    <tr>\n",
       "      <th>...</th>\n",
       "      <td>...</td>\n",
       "      <td>...</td>\n",
       "      <td>...</td>\n",
       "      <td>...</td>\n",
       "      <td>...</td>\n",
       "      <td>...</td>\n",
       "      <td>...</td>\n",
       "      <td>...</td>\n",
       "      <td>...</td>\n",
       "      <td>...</td>\n",
       "      <td>...</td>\n",
       "      <td>...</td>\n",
       "      <td>...</td>\n",
       "      <td>...</td>\n",
       "      <td>...</td>\n",
       "      <td>...</td>\n",
       "      <td>...</td>\n",
       "      <td>...</td>\n",
       "      <td>...</td>\n",
       "      <td>...</td>\n",
       "      <td>...</td>\n",
       "    </tr>\n",
       "    <tr>\n",
       "      <th>769</th>\n",
       "      <td>Color</td>\n",
       "      <td>2500000.0</td>\n",
       "      <td>$</td>\n",
       "      <td>ComedyDramaRomance</td>\n",
       "      <td>October</td>\n",
       "      <td>7.6</td>\n",
       "      <td>115.0</td>\n",
       "      <td>Breakfast at Tiffany's</td>\n",
       "      <td>1961</td>\n",
       "      <td>22</td>\n",
       "      <td>...</td>\n",
       "      <td>0</td>\n",
       "      <td>0</td>\n",
       "      <td>0</td>\n",
       "      <td>0</td>\n",
       "      <td>0</td>\n",
       "      <td>0</td>\n",
       "      <td>0</td>\n",
       "      <td>0</td>\n",
       "      <td>0</td>\n",
       "      <td>0</td>\n",
       "    </tr>\n",
       "    <tr>\n",
       "      <th>770</th>\n",
       "      <td>Color</td>\n",
       "      <td>5400000.0</td>\n",
       "      <td>$</td>\n",
       "      <td>DramaWestern</td>\n",
       "      <td>November</td>\n",
       "      <td>7.6</td>\n",
       "      <td>201.0</td>\n",
       "      <td>Giant</td>\n",
       "      <td>1956</td>\n",
       "      <td>5</td>\n",
       "      <td>...</td>\n",
       "      <td>0</td>\n",
       "      <td>0</td>\n",
       "      <td>0</td>\n",
       "      <td>0</td>\n",
       "      <td>0</td>\n",
       "      <td>0</td>\n",
       "      <td>0</td>\n",
       "      <td>0</td>\n",
       "      <td>0</td>\n",
       "      <td>1</td>\n",
       "    </tr>\n",
       "    <tr>\n",
       "      <th>771</th>\n",
       "      <td>Color</td>\n",
       "      <td>3100000.0</td>\n",
       "      <td>$</td>\n",
       "      <td>DramaWestern</td>\n",
       "      <td>October</td>\n",
       "      <td>7.6</td>\n",
       "      <td>90.0</td>\n",
       "      <td>Shane</td>\n",
       "      <td>1953</td>\n",
       "      <td>5</td>\n",
       "      <td>...</td>\n",
       "      <td>0</td>\n",
       "      <td>0</td>\n",
       "      <td>0</td>\n",
       "      <td>0</td>\n",
       "      <td>0</td>\n",
       "      <td>0</td>\n",
       "      <td>0</td>\n",
       "      <td>0</td>\n",
       "      <td>0</td>\n",
       "      <td>1</td>\n",
       "    </tr>\n",
       "    <tr>\n",
       "      <th>772</th>\n",
       "      <td>Black and White</td>\n",
       "      <td>1650000.0</td>\n",
       "      <td>$</td>\n",
       "      <td>DramaRomanceWar</td>\n",
       "      <td>December</td>\n",
       "      <td>7.6</td>\n",
       "      <td>118.0</td>\n",
       "      <td>From Here to Eternity</td>\n",
       "      <td>1953</td>\n",
       "      <td>21</td>\n",
       "      <td>...</td>\n",
       "      <td>0</td>\n",
       "      <td>0</td>\n",
       "      <td>0</td>\n",
       "      <td>0</td>\n",
       "      <td>0</td>\n",
       "      <td>0</td>\n",
       "      <td>0</td>\n",
       "      <td>0</td>\n",
       "      <td>1</td>\n",
       "      <td>0</td>\n",
       "    </tr>\n",
       "    <tr>\n",
       "      <th>773</th>\n",
       "      <td>Black and White</td>\n",
       "      <td>1590000.0</td>\n",
       "      <td>$</td>\n",
       "      <td>DramaWar</td>\n",
       "      <td>January</td>\n",
       "      <td>7.6</td>\n",
       "      <td>97.0</td>\n",
       "      <td>Lifeboat</td>\n",
       "      <td>1944</td>\n",
       "      <td>8</td>\n",
       "      <td>...</td>\n",
       "      <td>0</td>\n",
       "      <td>0</td>\n",
       "      <td>0</td>\n",
       "      <td>0</td>\n",
       "      <td>0</td>\n",
       "      <td>0</td>\n",
       "      <td>0</td>\n",
       "      <td>0</td>\n",
       "      <td>1</td>\n",
       "      <td>0</td>\n",
       "    </tr>\n",
       "  </tbody>\n",
       "</table>\n",
       "<p>774 rows × 44 columns</p>\n",
       "</div>"
      ],
      "text/plain": [
       "         BW or Color       Budget Currency                     Genre  \\\n",
       "0              Color   25000000.0        $                     Drama   \n",
       "1              Color    6000000.0        $                CrimeDrama   \n",
       "2              Color  150000000.0      INR                     Drama   \n",
       "3              Color  185000000.0        $  ActionCrimeDramaThriller   \n",
       "4              Color   13000000.0        $                CrimeDrama   \n",
       "..               ...          ...      ...                       ...   \n",
       "769            Color    2500000.0        $        ComedyDramaRomance   \n",
       "770            Color    5400000.0        $              DramaWestern   \n",
       "771            Color    3100000.0        $              DramaWestern   \n",
       "772  Black and White    1650000.0        $           DramaRomanceWar   \n",
       "773  Black and White    1590000.0        $                  DramaWar   \n",
       "\n",
       "    Month of Release  Rating  Runtime                     Title  Year  \\\n",
       "0          September     9.3    142.0  The Shawshank Redemption  1994   \n",
       "1              March     9.2    175.0             The Godfather  1972   \n",
       "2           November     9.1    153.0           Soorarai Pottru  2020   \n",
       "3               July     9.0    152.0           The Dark Knight  2008   \n",
       "4           November     9.0    220.0    The Godfather: Part II  1974   \n",
       "..               ...     ...      ...                       ...   ...   \n",
       "769          October     7.6    115.0    Breakfast at Tiffany's  1961   \n",
       "770         November     7.6    201.0                     Giant  1956   \n",
       "771          October     7.6     90.0                     Shane  1953   \n",
       "772         December     7.6    118.0     From Here to Eternity  1953   \n",
       "773          January     7.6     97.0                  Lifeboat  1944   \n",
       "\n",
       "     Title Length  ...  Biography  Musical  Music  History  Horror  Sci-Fi  \\\n",
       "0              24  ...          0        0      0        0       0       0   \n",
       "1              13  ...          0        0      0        0       0       0   \n",
       "2              15  ...          0        0      0        0       0       0   \n",
       "3              15  ...          0        0      0        0       0       0   \n",
       "4              22  ...          0        0      0        0       0       0   \n",
       "..            ...  ...        ...      ...    ...      ...     ...     ...   \n",
       "769            22  ...          0        0      0        0       0       0   \n",
       "770             5  ...          0        0      0        0       0       0   \n",
       "771             5  ...          0        0      0        0       0       0   \n",
       "772            21  ...          0        0      0        0       0       0   \n",
       "773             8  ...          0        0      0        0       0       0   \n",
       "\n",
       "     Sport  Film-Noir  War  Western  \n",
       "0        0          0    0        0  \n",
       "1        0          0    0        0  \n",
       "2        0          0    0        0  \n",
       "3        0          0    0        0  \n",
       "4        0          0    0        0  \n",
       "..     ...        ...  ...      ...  \n",
       "769      0          0    0        0  \n",
       "770      0          0    0        1  \n",
       "771      0          0    0        1  \n",
       "772      0          0    1        0  \n",
       "773      0          0    1        0  \n",
       "\n",
       "[774 rows x 44 columns]"
      ]
     },
     "execution_count": 21,
     "metadata": {},
     "output_type": "execute_result"
    }
   ],
   "source": [
    "dfNoMPAA"
   ]
  },
  {
   "cell_type": "code",
   "execution_count": 22,
   "id": "6328953a",
   "metadata": {},
   "outputs": [],
   "source": [
    "dfWithMPAA.MPAA.unique()\n",
    "dummyMPAA = pd.get_dummies(dfWithMPAA['MPAA'], drop_first=True)\n",
    "dfWithMPAA = pd.concat([dfWithMPAA,dummyMPAA],axis=1)"
   ]
  },
  {
   "cell_type": "markdown",
   "id": "948d61e2",
   "metadata": {},
   "source": [
    "# Dummies and other Feature Engineering done- moving on to modeling"
   ]
  },
  {
   "cell_type": "code",
   "execution_count": 23,
   "id": "79540bc9",
   "metadata": {},
   "outputs": [],
   "source": [
    "import statsmodels.api as sm\n",
    "import statsmodels.formula.api as smf \n",
    "from sklearn.pipeline import Pipeline\n",
    "from sklearn.metrics import r2_score\n",
    "from sklearn.model_selection import train_test_split,KFold\n",
    "from sklearn.linear_model import LinearRegression, Lasso, LassoCV, Ridge, RidgeCV\n",
    "from sklearn.preprocessing import StandardScaler, PolynomialFeatures\n",
    "from sklearn.model_selection import KFold"
   ]
  },
  {
   "cell_type": "markdown",
   "id": "02fed09e",
   "metadata": {},
   "source": [
    "For funsies, let's real quick look at doing LR on just a feature or two"
   ]
  },
  {
   "cell_type": "code",
   "execution_count": 24,
   "id": "cba70e02",
   "metadata": {},
   "outputs": [],
   "source": [
    "X = dfNoMPAA[['Runtime']]\n",
    "y = dfNoMPAA['Rating']\n",
    "lr = LinearRegression()"
   ]
  },
  {
   "cell_type": "code",
   "execution_count": 25,
   "id": "49e0b922",
   "metadata": {},
   "outputs": [
    {
     "name": "stdout",
     "output_type": "stream",
     "text": [
      "R-squared: 0.0412\n"
     ]
    }
   ],
   "source": [
    "lr.fit(X,y)\n",
    "print('R-squared: {:.4f}'.format(lr.score(X,y)))"
   ]
  },
  {
   "cell_type": "markdown",
   "id": "eb751058",
   "metadata": {},
   "source": [
    "Okay- not great! Let's add a couple more and see if it makes LR any better"
   ]
  },
  {
   "cell_type": "code",
   "execution_count": 49,
   "id": "bf2e279b",
   "metadata": {},
   "outputs": [
    {
     "data": {
      "text/plain": [
       "Index(['BW or Color', 'Budget', 'Currency', 'Genre', 'Month of Release',\n",
       "       'Rating', 'Runtime', 'Title', 'Year', 'Title Length',\n",
       "       'Years Since Release', 'BudgetAdj', 'August', 'December', 'February',\n",
       "       'January', 'July', 'June', 'March', 'May', 'November', 'October',\n",
       "       'September', 'Action', 'Adventure', 'Animation', 'Comedy', 'Crime',\n",
       "       'Family', 'Fantasy', 'Drama', 'Thriller', 'Romance', 'Mystery',\n",
       "       'Biography', 'Musical', 'Music', 'History', 'Horror', 'Sci-Fi', 'Sport',\n",
       "       'Film-Noir', 'War', 'Western'],\n",
       "      dtype='object')"
      ]
     },
     "execution_count": 49,
     "metadata": {},
     "output_type": "execute_result"
    }
   ],
   "source": [
    "dfNoMPAA.columns"
   ]
  },
  {
   "cell_type": "code",
   "execution_count": 53,
   "id": "b3289650",
   "metadata": {},
   "outputs": [
    {
     "name": "stdout",
     "output_type": "stream",
     "text": [
      "R-squared: 0.0674\n"
     ]
    }
   ],
   "source": [
    "X = dfNoMPAA[['Runtime','BudgetAdj','Years Since Release']]\n",
    "lr = LinearRegression()\n",
    "lr.fit(X,y)\n",
    "print('R-squared: {:.4f}'.format(lr.score(X,y)))"
   ]
  },
  {
   "cell_type": "markdown",
   "id": "e8df39d2",
   "metadata": {},
   "source": [
    "I mean- technically an almost 50% increase in R2!\n",
    "Let's test out one of the dummy variables super quick. Moving over to MPAA:"
   ]
  },
  {
   "cell_type": "code",
   "execution_count": 52,
   "id": "0cf74cfb",
   "metadata": {},
   "outputs": [
    {
     "data": {
      "text/plain": [
       "Index(['BW or Color', 'Budget', 'Currency', 'Genre', 'MPAA',\n",
       "       'Month of Release', 'Rating', 'Runtime', 'Title', 'Year',\n",
       "       'Title Length', 'Years Since Release', 'BudgetAdj', 'August',\n",
       "       'December', 'February', 'January', 'July', 'June', 'March', 'May',\n",
       "       'November', 'October', 'September', 'Action', 'Adventure', 'Animation',\n",
       "       'Comedy', 'Crime', 'Family', 'Fantasy', 'Drama', 'Thriller', 'Romance',\n",
       "       'Mystery', 'Biography', 'Musical', 'Music', 'History', 'Horror',\n",
       "       'Sci-Fi', 'Sport', 'Film-Noir', 'War', 'Western', 'M', 'NC-17', 'PG',\n",
       "       'PG-13', 'R'],\n",
       "      dtype='object')"
      ]
     },
     "execution_count": 52,
     "metadata": {},
     "output_type": "execute_result"
    }
   ],
   "source": [
    "dfWithMPAA.columns"
   ]
  },
  {
   "cell_type": "code",
   "execution_count": 54,
   "id": "3befd951",
   "metadata": {},
   "outputs": [
    {
     "name": "stdout",
     "output_type": "stream",
     "text": [
      "R-squared: 0.0378\n",
      "R-squared: 0.0777\n",
      "R-squared: 0.0920\n"
     ]
    }
   ],
   "source": [
    "X = dfWithMPAA[['Runtime']]\n",
    "y = dfWithMPAA['Rating']\n",
    "lr = LinearRegression()\n",
    "lr.fit(X,y)\n",
    "print('R-squared: {:.4f}'.format(lr.score(X,y)))\n",
    "X = dfWithMPAA[['Runtime','BudgetAdj','Years Since Release']]\n",
    "lr = LinearRegression()\n",
    "lr.fit(X,y)\n",
    "print('R-squared: {:.4f}'.format(lr.score(X,y)))\n",
    "X = dfWithMPAA[['Runtime','BudgetAdj','Years Since Release', 'M', 'NC-17', 'PG','PG-13', 'R']]\n",
    "lr = LinearRegression()\n",
    "lr.fit(X,y)\n",
    "print('R-squared: {:.4f}'.format(lr.score(X,y)))"
   ]
  },
  {
   "cell_type": "markdown",
   "id": "0d174d7d",
   "metadata": {},
   "source": [
    "Interesting!"
   ]
  },
  {
   "cell_type": "code",
   "execution_count": 55,
   "id": "f031774c",
   "metadata": {},
   "outputs": [
    {
     "name": "stdout",
     "output_type": "stream",
     "text": [
      "R-squared: 0.1373\n"
     ]
    }
   ],
   "source": [
    "X = dfWithMPAA[['Runtime','BudgetAdj','Years Since Release', 'M', 'NC-17', 'PG','PG-13', 'R','Action', 'Adventure', 'Animation',\n",
    "       'Comedy', 'Crime', 'Family', 'Fantasy', 'Drama', 'Thriller', 'Romance',\n",
    "       'Mystery', 'Biography', 'Musical', 'Music', 'History', 'Horror',\n",
    "       'Sci-Fi', 'Sport', 'Film-Noir', 'War', 'Western']]\n",
    "lr = LinearRegression()\n",
    "lr.fit(X,y)\n",
    "print('R-squared: {:.4f}'.format(lr.score(X,y)))"
   ]
  },
  {
   "cell_type": "code",
   "execution_count": 57,
   "id": "519a2c57",
   "metadata": {},
   "outputs": [
    {
     "name": "stdout",
     "output_type": "stream",
     "text": [
      "R-squared: 0.1502\n"
     ]
    }
   ],
   "source": [
    "X = dfWithMPAA[['Runtime','BudgetAdj','Years Since Release', 'M', 'NC-17', 'PG','PG-13', 'R','Action', 'Adventure', 'Animation',\n",
    "       'Comedy', 'Crime', 'Family', 'Fantasy', 'Drama', 'Thriller', 'Romance',\n",
    "       'Mystery', 'Biography', 'Musical', 'Music', 'History', 'Horror',\n",
    "       'Sci-Fi', 'Sport', 'Film-Noir', 'War', 'Western','August',\n",
    "       'December', 'February', 'January', 'July', 'June', 'March', 'May',\n",
    "       'November', 'October', 'September']]\n",
    "lr = LinearRegression()\n",
    "lr.fit(X,y)\n",
    "print('R-squared: {:.4f}'.format(lr.score(X,y)))"
   ]
  },
  {
   "cell_type": "markdown",
   "id": "3062f61d",
   "metadata": {},
   "source": [
    "Welp- that's the best so far! Let's move on to more complex approaches here."
   ]
  },
  {
   "cell_type": "code",
   "execution_count": 59,
   "id": "0214312b",
   "metadata": {},
   "outputs": [],
   "source": [
    "#let's start off with what just gave us the best LR so far:\n",
    "#taking our splits\n",
    "X_train_val, X_test, y_train_val, y_test = train_test_split(X, y, test_size=0.2,random_state=42)\n",
    "X_train, X_val, y_train, y_val = train_test_split(X_train_val, y_train_val, test_size=.25, random_state=43)"
   ]
  },
  {
   "cell_type": "code",
   "execution_count": 60,
   "id": "1940f186",
   "metadata": {},
   "outputs": [],
   "source": [
    "lr = LinearRegression()\n",
    "poly = PolynomialFeatures(degree = 2)\n",
    "\n",
    "X_train_poly = poly.fit_transform(X_train.values)\n",
    "X_val_poly = poly.transform(X_val.values)\n",
    "X_test_poly = poly.transform(X_test.values)\n",
    "lr_poly = LinearRegression()"
   ]
  },
  {
   "cell_type": "code",
   "execution_count": 65,
   "id": "91cf5a34",
   "metadata": {},
   "outputs": [
    {
     "name": "stdout",
     "output_type": "stream",
     "text": [
      "-0.185276392187133\n",
      "-0.5157776375749052\n"
     ]
    }
   ],
   "source": [
    "lr.fit(X_train,y_train)\n",
    "print(lr.score(X_val,y_val))\n",
    "\n",
    "lr_poly.fit(X_train_poly,y_train)\n",
    "print(lr_poly.score(X_val_poly,y_val))"
   ]
  },
  {
   "cell_type": "markdown",
   "id": "5af5a4f4",
   "metadata": {},
   "source": [
    "Uh-oh! (although, perhaps not all that surprising. Especially given the size of our dataset here)"
   ]
  },
  {
   "cell_type": "code",
   "execution_count": 66,
   "id": "102d053a",
   "metadata": {},
   "outputs": [],
   "source": [
    "#resetting, just for funsies\n",
    "X = dfWithMPAA[['Runtime','BudgetAdj','Years Since Release', 'M', 'NC-17', 'PG','PG-13', 'R','Action', 'Adventure', 'Animation',\n",
    "       'Comedy', 'Crime', 'Family', 'Fantasy', 'Drama', 'Thriller', 'Romance',\n",
    "       'Mystery', 'Biography', 'Musical', 'Music', 'History', 'Horror',\n",
    "       'Sci-Fi', 'Sport', 'Film-Noir', 'War', 'Western']]\n",
    "y = dfWithMPAA['Rating']"
   ]
  },
  {
   "cell_type": "code",
   "execution_count": 67,
   "id": "79dc66cc",
   "metadata": {},
   "outputs": [],
   "source": [
    "X, X_test, y, y_test = train_test_split(X,y,test_size=.2, random_state=10)\n",
    "X,y = np.array(X), np.array(y)\n",
    "lr = LinearRegression()"
   ]
  },
  {
   "cell_type": "code",
   "execution_count": 68,
   "id": "67254901",
   "metadata": {},
   "outputs": [
    {
     "name": "stdout",
     "output_type": "stream",
     "text": [
      "Simple scores: \t[-0.138, 0.049, -0.066, 0.006, -0.176]\n",
      "Ridge scores: \t[-0.136, 0.051, -0.06, 0.007, -0.169] \n",
      "\n",
      "Simple mean cv r^2: -0.065 +- 0.084\n",
      "Ridge mean cv r^2: -0.061 +- 0.083\n"
     ]
    }
   ],
   "source": [
    "kf = KFold(n_splits=5, shuffle=True, random_state = 71)\n",
    "cv_lm_r2s, cv_lm_reg_r2s = [], [] #collect the validation results for both models\n",
    "\n",
    "for train_ind, val_ind in kf.split(X,y):\n",
    "    \n",
    "    X_train, y_train = X[train_ind], y[train_ind]\n",
    "    X_val, y_val = X[val_ind], y[val_ind] \n",
    "    \n",
    "    #simple linear regression\n",
    "    lm = LinearRegression()\n",
    "    lm_reg = Ridge(alpha=1)\n",
    "\n",
    "    lm.fit(X_train, y_train)\n",
    "    cv_lm_r2s.append(lm.score(X_val, y_val).round(3))\n",
    "    \n",
    "    #ridge with feature scaling\n",
    "    scaler = StandardScaler()\n",
    "    X_train_scaled = scaler.fit_transform(X_train)\n",
    "    X_val_scaled = scaler.transform(X_val)\n",
    "    \n",
    "    lm_reg.fit(X_train_scaled, y_train)\n",
    "    cv_lm_reg_r2s.append(lm_reg.score(X_val_scaled, y_val).round(3))\n",
    "\n",
    "print(f'Simple scores: \\t{cv_lm_r2s}')\n",
    "print(f'Ridge scores: \\t{cv_lm_reg_r2s} \\n')\n",
    "\n",
    "print(f'Simple mean cv r^2: {np.mean(cv_lm_r2s):.3f} +- {np.std(cv_lm_r2s):.3f}')\n",
    "print(f'Ridge mean cv r^2: {np.mean(cv_lm_reg_r2s):.3f} +- {np.std(cv_lm_reg_r2s):.3f}')"
   ]
  },
  {
   "cell_type": "markdown",
   "id": "ffeef8ec",
   "metadata": {},
   "source": [
    "Uh - oh! Looks like we're kinda getting into trouble here! Regardless, let's play around with the Ridge model a little bit more. \n",
    "\n",
    "(as a side note- look at how similar our R2 scores ended up in both of those CV tes†s- that has to be a coincidence.)"
   ]
  },
  {
   "cell_type": "code",
   "execution_count": 35,
   "id": "a0d9f6f4",
   "metadata": {},
   "outputs": [],
   "source": [
    "X = dfWithMPAA[['Runtime','BudgetAdj','Years Since Release', 'M', 'NC-17', 'PG','PG-13', 'R','Action', 'Adventure', 'Animation',\n",
    "       'Comedy', 'Crime', 'Family', 'Fantasy', 'Drama', 'Thriller', 'Romance',\n",
    "       'Mystery', 'Biography', 'Musical', 'Music', 'History', 'Horror',\n",
    "       'Sci-Fi', 'Sport', 'Film-Noir', 'War', 'Western']]\n",
    "y = dfWithMPAA['Rating']\n",
    "X, X_test, y, y_test = train_test_split(X,y,test_size=.2, random_state=10)\n",
    "scaler = StandardScaler()\n",
    "X_train_scaled = scaler.fit_transform(X)\n",
    "X_test_scaled = scaler.transform(X_test)\n",
    "lm_reg.fit(X_train_scaled,y)"
   ]
  },
  {
   "cell_type": "code",
   "execution_count": 71,
   "id": "ee5deeac",
   "metadata": {},
   "outputs": [],
   "source": [
    "test_set_pred = lm_reg.predict(X_test_scaled)"
   ]
  },
  {
   "cell_type": "code",
   "execution_count": 110,
   "id": "420becd9",
   "metadata": {},
   "outputs": [
    {
     "data": {
      "text/plain": [
       "0.5084912404813872"
      ]
     },
     "execution_count": 110,
     "metadata": {},
     "output_type": "execute_result"
    }
   ],
   "source": [
    "lin_test_set_pred = lm.predict(X_test_scaled)\n",
    "mae(y_test,lin_test_set_pred)"
   ]
  },
  {
   "cell_type": "code",
   "execution_count": 93,
   "id": "69c33c7d",
   "metadata": {},
   "outputs": [
    {
     "data": {
      "image/png": "[encoded data removed]",
      "text/plain": [
       "<Figure size 432x288 with 1 Axes>"
      ]
     },
     "metadata": {
      "needs_background": "light"
     },
     "output_type": "display_data"
    }
   ],
   "source": [
    "sns.scatterplot(x=test_set_pred, y=y_test, alpha=.5)\n",
    "plt.plot(np.linspace(7,9.5),np.linspace(7,9))\n",
    "plt.title('Ridge Model vs Target')\n",
    "plt.xlabel('Predicted Rating')\n",
    "plt.ylabel('Actual Rating');"
   ]
  },
  {
   "cell_type": "markdown",
   "id": "94b1f705",
   "metadata": {},
   "source": [
    "In retrospect (and sort of spurred by this graph)- might've been a bit of a better idea to use more 'random' sets of \n",
    "movies instead of JUST the top 100\n",
    "\n",
    "Anyways- can definitely see we're undershooting the data here, potentially in part due to the distribution of the ratings in general (much more in the 7.x range than 8.x, 9.x)\n"
   ]
  },
  {
   "cell_type": "code",
   "execution_count": 88,
   "id": "9a89b1b8",
   "metadata": {},
   "outputs": [
    {
     "data": {
      "text/plain": [
       "0.04904285617259796"
      ]
     },
     "execution_count": 88,
     "metadata": {},
     "output_type": "execute_result"
    }
   ],
   "source": [
    "r2_score(y_test,test_set_pred)"
   ]
  },
  {
   "cell_type": "code",
   "execution_count": 89,
   "id": "2b800cc6",
   "metadata": {},
   "outputs": [
    {
     "data": {
      "text/plain": [
       "0.22086348721534482"
      ]
     },
     "execution_count": 89,
     "metadata": {},
     "output_type": "execute_result"
    }
   ],
   "source": [
    "def mae(y_true, y_pred):\n",
    "    return np.mean(np.abs(y_pred - y_true)) \n",
    "mae(y_test,test_set_pred)"
   ]
  },
  {
   "cell_type": "code",
   "execution_count": 96,
   "id": "dcfeaa7e",
   "metadata": {},
   "outputs": [
    {
     "data": {
      "text/plain": [
       "8.216269722668759"
      ]
     },
     "execution_count": 96,
     "metadata": {},
     "output_type": "execute_result"
    }
   ],
   "source": [
    "def SSE(actuals, preds):\n",
    "    return np.sum((actuals - preds)**2)\n",
    "\n",
    "SSE(y_test,test_set_pred)"
   ]
  },
  {
   "cell_type": "markdown",
   "id": "86414861",
   "metadata": {},
   "source": [
    "In contrast, the MAE is actually not that bad, all things considered. With that said, is that all that surprising given the natural bias in our target variable? At the end of the day there is a small range of known values to the model, it really just needs to shoot within that range. Might be that's why the R2 is so bad.\n",
    "\n",
    "Let's see if we can graph the residuals real quick."
   ]
  },
  {
   "cell_type": "code",
   "execution_count": 95,
   "id": "e60863b5",
   "metadata": {},
   "outputs": [
    {
     "data": {
      "image/png": "[encoded data removed]",
      "text/plain": [
       "<Figure size 432x288 with 1 Axes>"
      ]
     },
     "metadata": {
      "needs_background": "light"
     },
     "output_type": "display_data"
    }
   ],
   "source": [
    "residuals = y_test - test_set_pred\n",
    "sns.scatterplot(x=test_set_pred,y=residuals)\n",
    "plt.xlabel('Predicted Values')\n",
    "plt.ylabel('Residuals')\n",
    "plt.title('Predicteds vs Residuals');"
   ]
  },
  {
   "cell_type": "markdown",
   "id": "5c8499c3",
   "metadata": {},
   "source": [
    "Very interesting skew here. Noted."
   ]
  },
  {
   "cell_type": "code",
   "execution_count": 97,
   "id": "af730dd1",
   "metadata": {},
   "outputs": [
    {
     "data": {
      "text/plain": [
       "array([ 0.0497221 ,  0.0040575 ,  0.07336813, -0.02792309, -0.00871196,\n",
       "        0.02872125,  0.01857662,  0.05146882, -0.00642161,  0.01444377,\n",
       "        0.04106945, -0.03811075, -0.01365037, -0.02698088,  0.00522933,\n",
       "        0.0107666 , -0.04195833, -0.02547109,  0.01271871, -0.01326944,\n",
       "       -0.01234974, -0.00271408, -0.01974796, -0.00411923,  0.00842356,\n",
       "        0.01037162, -0.00169434,  0.01334057, -0.01991871])"
      ]
     },
     "execution_count": 97,
     "metadata": {},
     "output_type": "execute_result"
    }
   ],
   "source": [
    "lm_reg.coef_"
   ]
  },
  {
   "cell_type": "code",
   "execution_count": 98,
   "id": "d10c3e12",
   "metadata": {},
   "outputs": [
    {
     "data": {
      "text/plain": [
       "[('Years Since Release', 0.0733681276901297),\n",
       " ('R', 0.051468816579552275),\n",
       " ('Runtime', 0.049722099486282464),\n",
       " ('Thriller', -0.04195832870656086),\n",
       " ('Animation', 0.04106944634813832),\n",
       " ('Comedy', -0.03811074906780483),\n",
       " ('PG', 0.02872124694025407),\n",
       " ('M', -0.027923088493416782),\n",
       " ('Family', -0.02698088056510077),\n",
       " ('Romance', -0.02547108557923221)]"
      ]
     },
     "execution_count": 98,
     "metadata": {},
     "output_type": "execute_result"
    }
   ],
   "source": [
    "coef_zip = list(zip(X.columns.tolist(),lm_reg.coef_))\n",
    "sortedCoefs = sorted(coef_zip, key = lambda x: abs(x[1]))\n",
    "sortedCoefs[:-11:-1]\n",
    "#snagging top 10 coefficients\n",
    "#works okay because recall standardized at this point\n",
    "#next up try and do a bar graph of some sort"
   ]
  },
  {
   "cell_type": "code",
   "execution_count": 100,
   "id": "b15b6824",
   "metadata": {},
   "outputs": [],
   "source": [
    "barNames = [i[0].title() for i in sortedCoefs[:-11:-1]]\n",
    "plotCoefs = [i[1] for i in sortedCoefs[:-11:-1]]"
   ]
  },
  {
   "cell_type": "code",
   "execution_count": 101,
   "id": "2b7fd713",
   "metadata": {},
   "outputs": [
    {
     "data": {
      "text/plain": [
       "['Years Since Release',\n",
       " 'R',\n",
       " 'Runtime',\n",
       " 'Thriller',\n",
       " 'Animation',\n",
       " 'Comedy',\n",
       " 'Pg',\n",
       " 'M',\n",
       " 'Family',\n",
       " 'Romance']"
      ]
     },
     "execution_count": 101,
     "metadata": {},
     "output_type": "execute_result"
    }
   ],
   "source": [
    "barNames"
   ]
  },
  {
   "cell_type": "code",
   "execution_count": 102,
   "id": "7825c6bd",
   "metadata": {},
   "outputs": [
    {
     "data": {
      "text/plain": [
       "[0.0733681276901297,\n",
       " 0.051468816579552275,\n",
       " 0.049722099486282464,\n",
       " -0.04195832870656086,\n",
       " 0.04106944634813832,\n",
       " -0.03811074906780483,\n",
       " 0.02872124694025407,\n",
       " -0.027923088493416782,\n",
       " -0.02698088056510077,\n",
       " -0.02547108557923221]"
      ]
     },
     "execution_count": 102,
     "metadata": {},
     "output_type": "execute_result"
    }
   ],
   "source": [
    "plotCoefs"
   ]
  },
  {
   "cell_type": "code",
   "execution_count": 108,
   "id": "54e1785b",
   "metadata": {},
   "outputs": [
    {
     "data": {
      "image/png": "[encoded data removed]",
      "text/plain": [
       "<Figure size 432x288 with 1 Axes>"
      ]
     },
     "metadata": {},
     "output_type": "display_data"
    }
   ],
   "source": [
    "sns.set_theme(style = 'whitegrid')\n",
    "coefPlot = sns.barplot(y=barNames,x=plotCoefs, orient = 'h')\n",
    "coefPlot.set_title(\"Most Important Features by Coefficient Magnitude\", fontsize = 20)\n",
    "coefPlot.set_xlabel('Coefficient Value', fontsize = 15)\n",
    "coefPlot.set_ylabel('Features', fontsize = 15)\n",
    "plt.show();"
   ]
  },
  {
   "cell_type": "markdown",
   "id": "54007303",
   "metadata": {},
   "source": [
    "Also including here, for reference, the code used to tune Lasso's lambda. This was taken from a different, messier notebook so I'm including the code and the output (as a comment)"
   ]
  },
  {
   "cell_type": "code",
   "execution_count": null,
   "id": "f38aa4f6",
   "metadata": {},
   "outputs": [],
   "source": [
    "alphalist = 10**(np.linspace(-2,2,200))\n",
    "err_vec_val = np.zeros(len(alphalist))\n",
    "err_vec_train = np.zeros(len(alphalist))\n",
    "\n",
    "for i,curr_alpha in enumerate(alphalist):\n",
    "\n",
    "    # note the use of a new sklearn utility: Pipeline to pack\n",
    "    # multiple modeling steps into one fitting process \n",
    "    steps = [('standardize', StandardScaler()), \n",
    "             ('Lasso', Lasso(alpha = curr_alpha))]\n",
    "\n",
    "    pipe = Pipeline(steps)\n",
    "    pipe.fit(X_train.values, y_train)\n",
    "    \n",
    "    val_set_pred = pipe.predict(X_val.values)\n",
    "    err_vec_val[i] = mae(y_val, val_set_pred)"
   ]
  },
  {
   "cell_type": "code",
   "execution_count": null,
   "id": "7a868e19",
   "metadata": {
    "scrolled": true
   },
   "outputs": [],
   "source": [
    "np.min(err_vec_val)\n",
    "#output: 0.23998252001772713"
   ]
  },
  {
   "cell_type": "code",
   "execution_count": null,
   "id": "824aca51",
   "metadata": {},
   "outputs": [],
   "source": [
    "lasso_model = Lasso(alpha = 0.02300430119772918)\n",
    "lasso_model.fit(X_train, y_train)\n",
    "lasso_model.coef_\n",
    "# array([ 1.88035955e-03, -2.49446462e-04, -9.05041522e-12, -0.00000000e+00,\n",
    "#        -0.00000000e+00,  0.00000000e+00,  0.00000000e+00,  0.00000000e+00,\n",
    "#        -0.00000000e+00,  0.00000000e+00,  0.00000000e+00, -0.00000000e+00,\n",
    "#        -0.00000000e+00,  0.00000000e+00, -0.00000000e+00, -0.00000000e+00,\n",
    "#         0.00000000e+00, -0.00000000e+00,  0.00000000e+00,  0.00000000e+00,\n",
    "#        -0.00000000e+00, -0.00000000e+00, -0.00000000e+00, -0.00000000e+00,\n",
    "#        -0.00000000e+00, -0.00000000e+00, -0.00000000e+00, -0.00000000e+00,\n",
    "#        -0.00000000e+00, -0.00000000e+00,  0.00000000e+00, -0.00000000e+00,\n",
    "#         0.00000000e+00,  0.00000000e+00,  0.00000000e+00])\n"
   ]
  },
  {
   "cell_type": "markdown",
   "id": "8eadd987",
   "metadata": {},
   "source": [
    "I chose against Lasso because it pretty much zeroed everything out- and I didn't think that would make a particularly interesting model! Plus- ridge ended up giving me a better MAE anyways :)"
   ]
  },
  {
   "cell_type": "code",
   "execution_count": null,
   "id": "c5865b1c",
   "metadata": {},
   "outputs": [],
   "source": []
  }
 ],
 "metadata": {
  "kernelspec": {
   "display_name": "Python [conda env:metis] *",
   "language": "python",
   "name": "conda-env-metis-py"
  },
  "language_info": {
   "codemirror_mode": {
    "name": "ipython",
    "version": 3
   },
   "file_extension": ".py",
   "mimetype": "text/x-python",
   "name": "python",
   "nbconvert_exporter": "python",
   "pygments_lexer": "ipython3",
   "version": "3.8.8"
  }
 },
 "nbformat": 4,
 "nbformat_minor": 5
}
